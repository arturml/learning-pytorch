{
 "cells": [
  {
   "cell_type": "code",
   "execution_count": 13,
   "metadata": {},
   "outputs": [],
   "source": [
    "%matplotlib inline"
   ]
  },
  {
   "cell_type": "code",
   "execution_count": 2,
   "metadata": {},
   "outputs": [],
   "source": [
    "import itertools\n",
    "import torch \n",
    "import torch.nn as nn\n",
    "import torchvision.datasets as datasets\n",
    "import torchvision.transforms as transforms\n",
    "import torch.nn.functional as F\n",
    "import pandas as pd\n",
    "import numpy as np\n",
    "import matplotlib.pyplot as plt\n",
    "from torch.autograd import Variable\n",
    "from sklearn.metrics import confusion_matrix"
   ]
  },
  {
   "cell_type": "markdown",
   "metadata": {},
   "source": [
    "## 1. Loading the data\n",
    "\n",
    "PyTorch has [dataset class](http://pytorch.org/tutorials/beginner/data_loading_tutorial.html) for MNIST (of course it does!)\n",
    "\n",
    "Notice that the `ToTensor` transform already normalizes the images to the interval \\[0,1\\]"
   ]
  },
  {
   "cell_type": "code",
   "execution_count": 3,
   "metadata": {},
   "outputs": [],
   "source": [
    "train_dataset = datasets.MNIST('../data', transform=transforms.ToTensor(), download=True)\n",
    "test_dataset = datasets.MNIST('../data', train=False, transform=transforms.ToTensor())"
   ]
  },
  {
   "cell_type": "code",
   "execution_count": 4,
   "metadata": {},
   "outputs": [],
   "source": [
    "batch_size = 32\n",
    "train_loader = torch.utils.data.DataLoader(dataset=train_dataset, batch_size=batch_size, shuffle=True)\n",
    "test_loader = torch.utils.data.DataLoader(dataset=test_dataset, batch_size=256, shuffle=False)"
   ]
  },
  {
   "cell_type": "markdown",
   "metadata": {},
   "source": [
    "## 2. Bulding the model\n",
    "\n",
    "I'm going to make some interesting observations here:\n",
    "\n",
    "* Based on the examples I've seen so far, I've noticed that it's very common in PyTorch that the last layer of classification network is **not followed by softmax**. This happens because the `nn.CrossEntropyLoss` computes the softmax internally. In test time, if you don't care about the actual probabilities, you just have to do an argmax to get the predictions. If you do care, you can compute the softmax outside the model or even use the `self.training` flag to modify the model behaviour during test time.\n",
    "\n",
    "\n",
    "* There are some options regarding where to put things like relu, dropout and max pooling. You can define them as layers in the `__init__` method (just like I did with dropout), or use the functional API (as I did with relu and max pool). Both options are identical, and it's just a matter of personal taste, although I was convinced at [this discussion](https://discuss.pytorch.org/t/how-to-choose-between-torch-nn-functional-and-torch-nn-module/2800/16) that a good strategy is to build layers when there are trainable parameters and use the functional API otherwise. I choose to use dropout as a layer because it is stateful in some sense, it has different train/test behaviour. In order to use dropout on the functional API, you have to explicity pass the self.training flag as an argument:\n",
    "\n",
    "        x = F.dropout(x, training=self.training)\n",
    "        \n",
    "Another option is to use `nn.Sequential` to make the model more compact, as a friend of mine did in this [GAN notebook](https://github.com/prcastro/pytorch-gan/blob/master/MNIST%20GAN.ipynb)."
   ]
  },
  {
   "cell_type": "code",
   "execution_count": 5,
   "metadata": {},
   "outputs": [],
   "source": [
    "class CNN(nn.Module):\n",
    "    def __init__(self):\n",
    "        super(CNN, self).__init__()\n",
    "        self.conv1 = nn.Conv2d(1, 32, 3)\n",
    "        self.conv2 = nn.Conv2d(32, 64, 3)\n",
    "        self.drop1 = nn.Dropout(0.5)\n",
    "        self.fc1 = nn.Linear(64*5*5, 128)\n",
    "        self.drop2 = nn.Dropout(0.25)\n",
    "        self.fc2 = nn.Linear(128, 10)\n",
    "    \n",
    "    def forward(self, x):\n",
    "        x = F.relu(self.conv1(x))\n",
    "        x = F.max_pool2d(x, 2)\n",
    "        x = F.relu(self.conv2(x))\n",
    "        x = F.max_pool2d(x, 2)\n",
    "        x = x.view(-1, 64*5*5)\n",
    "        x = self.drop1(x)\n",
    "        x = F.relu(self.fc1(x))\n",
    "        x = self.drop2(x)\n",
    "        x = self.fc2(x)\n",
    "        return x        "
   ]
  },
  {
   "cell_type": "code",
   "execution_count": 6,
   "metadata": {},
   "outputs": [
    {
     "data": {
      "text/plain": [
       "CNN(\n",
       "  (conv1): Conv2d(1, 32, kernel_size=(3, 3), stride=(1, 1))\n",
       "  (conv2): Conv2d(32, 64, kernel_size=(3, 3), stride=(1, 1))\n",
       "  (drop1): Dropout(p=0.5)\n",
       "  (fc1): Linear(in_features=1600, out_features=128, bias=True)\n",
       "  (drop2): Dropout(p=0.25)\n",
       "  (fc2): Linear(in_features=128, out_features=10, bias=True)\n",
       ")"
      ]
     },
     "execution_count": 6,
     "metadata": {},
     "output_type": "execute_result"
    }
   ],
   "source": [
    "model = CNN()\n",
    "model.cuda()"
   ]
  },
  {
   "cell_type": "markdown",
   "metadata": {},
   "source": [
    "## 3. Loss function and optimizer"
   ]
  },
  {
   "cell_type": "code",
   "execution_count": 7,
   "metadata": {},
   "outputs": [],
   "source": [
    "criterion = nn.CrossEntropyLoss()\n",
    "optimizer = torch.optim.Adam(model.parameters())"
   ]
  },
  {
   "cell_type": "markdown",
   "metadata": {},
   "source": [
    "## 4. Training Loop"
   ]
  },
  {
   "cell_type": "code",
   "execution_count": 8,
   "metadata": {},
   "outputs": [
    {
     "name": "stdout",
     "output_type": "stream",
     "text": [
      "Starting epoch 1/5\n",
      "loss: 0.2096  val_loss: 0.0485 val_acc: 0.9840\n",
      "\n",
      "Starting epoch 2/5\n",
      "loss: 0.0856  val_loss: 0.0358 val_acc: 0.9868\n",
      "\n",
      "Starting epoch 3/5\n",
      "loss: 0.0659  val_loss: 0.0333 val_acc: 0.9881\n",
      "\n",
      "Starting epoch 4/5\n",
      "loss: 0.0548  val_loss: 0.0254 val_acc: 0.9910\n",
      "\n",
      "Starting epoch 5/5\n",
      "loss: 0.0473  val_loss: 0.0258 val_acc: 0.9910\n",
      "\n"
     ]
    }
   ],
   "source": [
    "hist = {'loss': [], 'val_loss': [], 'val_acc': []}\n",
    "num_epochs = 5\n",
    "for epoch in range(num_epochs):\n",
    "    print('Starting epoch {}/{}'.format(epoch+1, num_epochs))\n",
    "    # train\n",
    "    model.train()\n",
    "    running_loss = 0.0\n",
    "    for images, labels in train_loader:\n",
    "        images = Variable(images.cuda())\n",
    "        labels = Variable(labels.cuda())\n",
    "        \n",
    "        optimizer.zero_grad()\n",
    "        outputs = model(images)\n",
    "        loss = criterion(outputs, labels)\n",
    "        loss.backward()\n",
    "        optimizer.step()\n",
    "        \n",
    "        running_loss += loss.data[0]\n",
    "    \n",
    "    train_loss = running_loss / len(train_loader)\n",
    "    \n",
    "    # evalute\n",
    "    model.eval()\n",
    "    val_running_loss = 0.0\n",
    "    correct = 0\n",
    "    for images, labels in test_loader:\n",
    "        images = Variable(images.cuda())\n",
    "        labels = Variable(labels.cuda())\n",
    "        \n",
    "        outputs = model(images)\n",
    "        loss = criterion(outputs, labels)\n",
    "        \n",
    "        val_running_loss += loss.data[0]\n",
    "        _, predicted = torch.max(outputs.data, 1)\n",
    "        correct += (predicted == labels.data).sum()\n",
    "    \n",
    "    \n",
    "    val_loss = val_running_loss / len(test_loader)\n",
    "    val_acc = correct / len(test_dataset)\n",
    "    \n",
    "    hist['loss'].append(train_loss)\n",
    "    hist['val_loss'].append(val_loss)\n",
    "    hist['val_acc'].append(val_acc)\n",
    "    \n",
    "    print('loss: {:.4f}  val_loss: {:.4f} val_acc: {:4.4f}\\n'.format(train_loss, val_loss, val_acc))      \n",
    "    \n",
    "    "
   ]
  },
  {
   "cell_type": "code",
   "execution_count": 9,
   "metadata": {},
   "outputs": [
    {
     "data": {
      "text/plain": [
       "<matplotlib.axes._subplots.AxesSubplot at 0x7feda256df98>"
      ]
     },
     "execution_count": 9,
     "metadata": {},
     "output_type": "execute_result"
    },
    {
     "data": {
      "image/png": "[encoded data removed]",
      "text/plain": [
       "<Figure size 432x288 with 1 Axes>"
      ]
     },
     "metadata": {},
     "output_type": "display_data"
    }
   ],
   "source": [
    "pd.DataFrame(hist)[['loss', 'val_loss']].plot()"
   ]
  },
  {
   "cell_type": "markdown",
   "metadata": {},
   "source": [
    "## 5. Confusion matrix\n",
    "\n",
    "I'll make this by hand, but next time I might use [PyTorchNet](https://github.com/pytorch/tnt)."
   ]
  },
  {
   "cell_type": "code",
   "execution_count": 10,
   "metadata": {},
   "outputs": [],
   "source": [
    "model.eval()\n",
    "y_test = []\n",
    "y_pred = []\n",
    "for images, labels in test_loader:\n",
    "    images = Variable(images.cuda())\n",
    "    labels = Variable(labels.cuda())\n",
    "    outputs = model(images)\n",
    "    _, predictions = outputs.max(1)\n",
    "    \n",
    "    y_test.append(labels.data.cpu().numpy())\n",
    "    y_pred.append(predictions.data.cpu().numpy())\n",
    "    \n",
    "y_test = np.concatenate(y_test)\n",
    "y_pred = np.concatenate(y_pred)"
   ]
  },
  {
   "cell_type": "code",
   "execution_count": 11,
   "metadata": {},
   "outputs": [],
   "source": [
    "def plot_confusion_matrix(cm, classes,\n",
    "                          normalize=False,\n",
    "                          title='Confusion matrix',\n",
    "                          cmap=plt.cm.Blues):\n",
    "    \"\"\"\n",
    "    This function prints and plots the confusion matrix.\n",
    "    Normalization can be applied by setting `normalize=True`.\n",
    "    \"\"\"\n",
    "    if normalize:\n",
    "        cm = cm.astype('float') / cm.sum(axis=1)[:, np.newaxis]\n",
    "        print(\"Normalized confusion matrix\")\n",
    "    else:\n",
    "        print('Confusion matrix, without normalization')\n",
    "\n",
    "    print(cm)\n",
    "\n",
    "    plt.imshow(cm, interpolation='nearest', cmap=cmap)\n",
    "    plt.title(title)\n",
    "    plt.colorbar()\n",
    "    tick_marks = np.arange(len(classes))\n",
    "    plt.xticks(tick_marks, classes, rotation=45)\n",
    "    plt.yticks(tick_marks, classes)\n",
    "\n",
    "    fmt = '.2f' if normalize else 'd'\n",
    "    thresh = cm.max() / 2.\n",
    "    for i, j in itertools.product(range(cm.shape[0]), range(cm.shape[1])):\n",
    "        plt.text(j, i, format(cm[i, j], fmt),\n",
    "                 horizontalalignment=\"center\",\n",
    "                 color=\"white\" if cm[i, j] > thresh else \"black\")\n",
    "\n",
    "    plt.tight_layout()\n",
    "    plt.ylabel('True label')\n",
    "    plt.xlabel('Predicted label')\n"
   ]
  },
  {
   "cell_type": "code",
   "execution_count": 12,
   "metadata": {},
   "outputs": [
    {
     "name": "stdout",
     "output_type": "stream",
     "text": [
      "Confusion matrix, without normalization\n",
      "[[ 975    0    0    0    0    0    2    1    2    0]\n",
      " [   0 1125    2    0    0    1    1    0    6    0]\n",
      " [   1    0 1026    0    0    0    1    3    1    0]\n",
      " [   0    0    2 1005    0    1    0    1    1    0]\n",
      " [   0    0    0    0  967    0    3    0    5    7]\n",
      " [   1    0    0    7    0  882    1    0    0    1]\n",
      " [   3    2    0    0    1    1  951    0    0    0]\n",
      " [   0    1    6    0    0    0    0 1018    1    2]\n",
      " [   0    0    1    1    0    0    0    0  971    1]\n",
      " [   2    0    0    1    2    6    0    2    6  990]]\n"
     ]
    },
    {
     "data": {
      "image/png": "[encoded data removed]",
      "text/plain": [
       "<Figure size 432x288 with 2 Axes>"
      ]
     },
     "metadata": {},
     "output_type": "display_data"
    }
   ],
   "source": [
    "cm = confusion_matrix(y_test, y_pred)\n",
    "plot_confusion_matrix(cm, classes=list(range(10)))"
   ]
  }
 ],
 "metadata": {
  "kernelspec": {
   "display_name": "Python 3",
   "language": "python",
   "name": "python3"
  },
  "language_info": {
   "codemirror_mode": {
    "name": "ipython",
    "version": 3
   },
   "file_extension": ".py",
   "mimetype": "text/x-python",
   "name": "python",
   "nbconvert_exporter": "python",
   "pygments_lexer": "ipython3",
   "version": "3.6.4"
  }
 },
 "nbformat": 4,
 "nbformat_minor": 2
}
