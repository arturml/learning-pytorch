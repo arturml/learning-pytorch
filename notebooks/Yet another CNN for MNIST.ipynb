{
 "cells": [
  {
   "cell_type": "code",
   "execution_count": 10,
   "metadata": {},
   "outputs": [],
   "source": [
    "%matplotlib inline"
   ]
  },
  {
   "cell_type": "code",
   "execution_count": 2,
   "metadata": {},
   "outputs": [],
   "source": [
    "import torch \n",
    "import torch.nn as nn\n",
    "import torchvision.datasets as datasets\n",
    "import torchvision.transforms as transforms\n",
    "from torch.autograd import Variable\n",
    "import torch.nn.functional as F\n",
    "import pandas as pd"
   ]
  },
  {
   "cell_type": "markdown",
   "metadata": {},
   "source": [
    "## 1. Loading the data\n",
    "\n",
    "PyTorch has [dataset class](http://pytorch.org/tutorials/beginner/data_loading_tutorial.html) for MNIST (of course it does!)\n",
    "\n",
    "Notice that the `ToTensor` transform already normalizes the images to the interval \\[0,1\\]"
   ]
  },
  {
   "cell_type": "code",
   "execution_count": 3,
   "metadata": {},
   "outputs": [
    {
     "name": "stdout",
     "output_type": "stream",
     "text": [
      "Downloading http://yann.lecun.com/exdb/mnist/train-images-idx3-ubyte.gz\n",
      "Downloading http://yann.lecun.com/exdb/mnist/train-labels-idx1-ubyte.gz\n",
      "Downloading http://yann.lecun.com/exdb/mnist/t10k-images-idx3-ubyte.gz\n",
      "Downloading http://yann.lecun.com/exdb/mnist/t10k-labels-idx1-ubyte.gz\n",
      "Processing...\n",
      "Done!\n"
     ]
    }
   ],
   "source": [
    "train_dataset = datasets.MNIST('../data', transform=transforms.ToTensor(), download=True)\n",
    "test_dataset = datasets.MNIST('../data', train=False, transform=transforms.ToTensor())"
   ]
  },
  {
   "cell_type": "code",
   "execution_count": 4,
   "metadata": {},
   "outputs": [],
   "source": [
    "batch_size = 32\n",
    "train_loader = torch.utils.data.DataLoader(dataset=train_dataset, batch_size=batch_size, shuffle=True)\n",
    "test_loader = torch.utils.data.DataLoader(dataset=test_dataset, batch_size=256, shuffle=False)"
   ]
  },
  {
   "cell_type": "markdown",
   "metadata": {},
   "source": [
    "## 2. Bulding the model\n",
    "\n",
    "I'm going to make some interesting observations here:\n",
    "\n",
    "* Based on the examples I've seen so far, I've noticed that it's very common in PyTorch that the last layer of classification network is **not followed by softmax**. This happens because the `nn.CrossEntropyLoss` computes the softmax internally. In test time, if you don't care about the actual probabilities, you just have to do an argmax to get the predictions. If you do care, you can compute the softmax outside the model or even use the `self.training` flag to modify the model behaviour during test time.\n",
    "\n",
    "\n",
    "* There are some options regarding where to put things like relu, dropout and max pooling. You can define them as layers in the `__init__` method (just like I did with dropout), or use the functional API (as I did with relu and max pool). Both options are identical, and it's just a matter of personal taste, although I was convinced at [this discussion](https://discuss.pytorch.org/t/how-to-choose-between-torch-nn-functional-and-torch-nn-module/2800/16) that a good strategy is to build layers when there are trainable parameters and use the functional API otherwise. I choose to use dropout as a layer because it is stateful in some sense, it has different train/test behaviour. In order to use dropout on the functional API, you have to explicity pass the self.training flag as an argument:\n",
    "\n",
    "        x = F.dropout(x, training=self.training)\n",
    "        \n",
    "Another option is to use `nn.Sequential` to make the model more compact, as a friend of mine did in this [GAN notebook](https://github.com/prcastro/pytorch-gan/blob/master/MNIST%20GAN.ipynb)."
   ]
  },
  {
   "cell_type": "code",
   "execution_count": 5,
   "metadata": {},
   "outputs": [],
   "source": [
    "class CNN(nn.Module):\n",
    "    def __init__(self):\n",
    "        super(CNN, self).__init__()\n",
    "        self.conv1 = nn.Conv2d(1, 32, 3)\n",
    "        self.conv2 = nn.Conv2d(32, 64, 3)\n",
    "        self.drop1 = nn.Dropout(0.5)\n",
    "        self.fc1 = nn.Linear(64*5*5, 128)\n",
    "        self.drop2 = nn.Dropout(0.25)\n",
    "        self.fc2 = nn.Linear(128, 10)\n",
    "    \n",
    "    def forward(self, x):\n",
    "        x = F.relu(self.conv1(x))\n",
    "        x = F.max_pool2d(x, 2)\n",
    "        x = F.relu(self.conv2(x))\n",
    "        x = F.max_pool2d(x, 2)\n",
    "        x = x.view(-1, 64*5*5)\n",
    "        x = self.drop1(x)\n",
    "        x = F.relu(self.fc1(x))\n",
    "        x = self.drop2(x)\n",
    "        x = self.fc2(x)\n",
    "        return x        "
   ]
  },
  {
   "cell_type": "code",
   "execution_count": 6,
   "metadata": {},
   "outputs": [
    {
     "data": {
      "text/plain": [
       "CNN(\n",
       "  (conv1): Conv2d(1, 32, kernel_size=(3, 3), stride=(1, 1))\n",
       "  (conv2): Conv2d(32, 64, kernel_size=(3, 3), stride=(1, 1))\n",
       "  (drop1): Dropout(p=0.5)\n",
       "  (fc1): Linear(in_features=1600, out_features=128, bias=True)\n",
       "  (drop2): Dropout(p=0.25)\n",
       "  (fc2): Linear(in_features=128, out_features=10, bias=True)\n",
       ")"
      ]
     },
     "execution_count": 6,
     "metadata": {},
     "output_type": "execute_result"
    }
   ],
   "source": [
    "model = CNN()\n",
    "model.cuda()"
   ]
  },
  {
   "cell_type": "markdown",
   "metadata": {},
   "source": [
    "## 3. Loss function and optimizer"
   ]
  },
  {
   "cell_type": "code",
   "execution_count": 7,
   "metadata": {},
   "outputs": [],
   "source": [
    "criterion = nn.CrossEntropyLoss()\n",
    "optimizer = torch.optim.Adam(model.parameters())"
   ]
  },
  {
   "cell_type": "markdown",
   "metadata": {},
   "source": [
    "## 4. Training Loop\n",
    "\n",
    "This part is a little bit ugly. I don't like writing training loops. Luckily, there is the [torchsample](https://github.com/ncullen93/torchsample) project: it provides a high-level, keras-like API for pytorch models with fit, predict and callbacks. I'm gonna give it a try the next time.\n",
    "\n",
    "I did a validation step at the end of every epoch."
   ]
  },
  {
   "cell_type": "code",
   "execution_count": 8,
   "metadata": {},
   "outputs": [
    {
     "name": "stdout",
     "output_type": "stream",
     "text": [
      "Starting epoch 1/20\n",
      "loss: 0.0064  val_loss: 0.0002 val_acc: 0.9825\n",
      "\n",
      "Starting epoch 2/20\n",
      "loss: 0.0026  val_loss: 0.0001 val_acc: 0.9867\n",
      "\n",
      "Starting epoch 3/20\n",
      "loss: 0.0021  val_loss: 0.0001 val_acc: 0.9867\n",
      "\n",
      "Starting epoch 4/20\n",
      "loss: 0.0018  val_loss: 0.0001 val_acc: 0.9914\n",
      "\n",
      "Starting epoch 5/20\n",
      "loss: 0.0015  val_loss: 0.0001 val_acc: 0.9916\n",
      "\n",
      "Starting epoch 6/20\n",
      "loss: 0.0014  val_loss: 0.0001 val_acc: 0.9925\n",
      "\n",
      "Starting epoch 7/20\n",
      "loss: 0.0013  val_loss: 0.0001 val_acc: 0.9924\n",
      "\n",
      "Starting epoch 8/20\n",
      "loss: 0.0012  val_loss: 0.0001 val_acc: 0.9921\n",
      "\n",
      "Starting epoch 9/20\n",
      "loss: 0.0011  val_loss: 0.0001 val_acc: 0.9926\n",
      "\n",
      "Starting epoch 10/20\n",
      "loss: 0.0010  val_loss: 0.0001 val_acc: 0.9927\n",
      "\n",
      "Starting epoch 11/20\n",
      "loss: 0.0011  val_loss: 0.0001 val_acc: 0.9935\n",
      "\n",
      "Starting epoch 12/20\n",
      "loss: 0.0010  val_loss: 0.0001 val_acc: 0.9930\n",
      "\n",
      "Starting epoch 13/20\n",
      "loss: 0.0009  val_loss: 0.0001 val_acc: 0.9928\n",
      "\n",
      "Starting epoch 14/20\n",
      "loss: 0.0009  val_loss: 0.0001 val_acc: 0.9906\n",
      "\n",
      "Starting epoch 15/20\n",
      "loss: 0.0008  val_loss: 0.0001 val_acc: 0.9931\n",
      "\n",
      "Starting epoch 16/20\n",
      "loss: 0.0008  val_loss: 0.0001 val_acc: 0.9950\n",
      "\n",
      "Starting epoch 17/20\n",
      "loss: 0.0008  val_loss: 0.0001 val_acc: 0.9933\n",
      "\n",
      "Starting epoch 18/20\n",
      "loss: 0.0007  val_loss: 0.0001 val_acc: 0.9942\n",
      "\n",
      "Starting epoch 19/20\n",
      "loss: 0.0007  val_loss: 0.0001 val_acc: 0.9931\n",
      "\n",
      "Starting epoch 20/20\n",
      "loss: 0.0007  val_loss: 0.0001 val_acc: 0.9934\n",
      "\n"
     ]
    }
   ],
   "source": [
    "hist = {'loss': [], 'val_loss': [], 'val_acc': []}\n",
    "num_epochs = 20\n",
    "for epoch in range(num_epochs):\n",
    "    print('Starting epoch {}/{}'.format(epoch+1, num_epochs))\n",
    "    # train\n",
    "    model.train()\n",
    "    running_loss = 0.0\n",
    "    for images, labels in train_loader:\n",
    "        images = Variable(images.cuda())\n",
    "        labels = Variable(labels.cuda())\n",
    "        \n",
    "        optimizer.zero_grad()\n",
    "        outputs = model(images)\n",
    "        loss = criterion(outputs, labels)\n",
    "        loss.backward()\n",
    "        optimizer.step()\n",
    "        \n",
    "        running_loss += loss.data[0]\n",
    "    \n",
    "    # evalute\n",
    "    model.eval()\n",
    "    val_running_loss = 0.0\n",
    "    correct = 0\n",
    "    for images, labels in test_loader:\n",
    "        images = Variable(images.cuda())\n",
    "        labels = Variable(labels.cuda())\n",
    "        \n",
    "        outputs = model(images)\n",
    "        loss = criterion(outputs, labels)\n",
    "        \n",
    "        val_running_loss += loss.data[0]\n",
    "        _, predicted = torch.max(outputs.data, 1)\n",
    "        correct += (predicted == labels.data).sum()\n",
    "    \n",
    "    loss = running_loss / len(train_dataset)\n",
    "    val_loss, val_acc = val_running_loss / len(test_dataset), correct / len(test_dataset)\n",
    "    \n",
    "    hist['loss'].append(loss)\n",
    "    hist['val_loss'].append(val_loss)\n",
    "    hist['val_acc'].append(val_acc)\n",
    "    \n",
    "    print('loss: {:.4f}  val_loss: {:.4f} val_acc: {:4.4f}\\n'.format(loss, val_loss, val_acc))      \n",
    "    \n",
    "    "
   ]
  },
  {
   "cell_type": "code",
   "execution_count": 9,
   "metadata": {},
   "outputs": [
    {
     "data": {
      "text/plain": [
       "<matplotlib.axes._subplots.AxesSubplot at 0x7faf45f83f98>"
      ]
     },
     "execution_count": 9,
     "metadata": {},
     "output_type": "execute_result"
    },
    {
     "data": {
      "image/png": "[encoded data removed]",
      "text/plain": [
       "<matplotlib.figure.Figure at 0x7faf97780080>"
      ]
     },
     "metadata": {},
     "output_type": "display_data"
    }
   ],
   "source": [
    "pd.DataFrame(hist)[['loss', 'val_loss']].plot()"
   ]
  }
 ],
 "metadata": {
  "kernelspec": {
   "display_name": "Python 3",
   "language": "python",
   "name": "python3"
  },
  "language_info": {
   "codemirror_mode": {
    "name": "ipython",
    "version": 3
   },
   "file_extension": ".py",
   "mimetype": "text/x-python",
   "name": "python",
   "nbconvert_exporter": "python",
   "pygments_lexer": "ipython3",
   "version": "3.6.4"
  }
 },
 "nbformat": 4,
 "nbformat_minor": 2
}
